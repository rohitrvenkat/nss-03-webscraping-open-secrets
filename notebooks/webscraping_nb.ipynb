{
 "cells": [
  {
   "cell_type": "code",
   "execution_count": 7,
   "metadata": {},
   "outputs": [],
   "source": [
    "# Import libraries\n",
    "import requests\n",
    "from bs4 import BeautifulSoup as BS\n",
    "from IPython.core.display import HTML\n",
    "import pandas as pd\n",
    "import re"
   ]
  },
  {
   "cell_type": "markdown",
   "metadata": {},
   "source": [
    "#### 1\\. Start by scraping the data from the summary page for Tennessee's 2nd District, which is available at https://www.opensecrets.org/races/summary?cycle=2020&id=TN02&spec=N.\n",
    "* The data that we want is contained in the \"Total Raised and Spent\" table.\n",
    "* Make a DataFrame showing, for each candidate:\n",
    "    * the candidate's name\n",
    "    * the candidate's party\n",
    "    * state\n",
    "    * district number\n",
    "    * whether the candidate was an incumbent\n",
    "    * whether the candidate won the race\n",
    "    * the total amount raised by that candidate (as a numeric variable)\n",
    "    * the total amount spent by the candidate (as a numeric variable)"
   ]
  },
  {
   "cell_type": "markdown",
   "metadata": {},
   "source": [
    "#### 2\\. Once you have working code for Tennessee's 2nd District, expand on your code to capture all of Tennessee's districts.</b>"
   ]
  },
  {
   "cell_type": "markdown",
   "metadata": {},
   "source": [
    "#### 3\\. Once you have working code for all of Tennessee's districts, expand on it to capture all states and districts. The number of representatives each state has can be found in a table on this page: https://www.britannica.com/topic/United-States-House-of-Representatives-Seats-by-State-1787120"
   ]
  },
  {
   "cell_type": "code",
   "execution_count": 2,
   "metadata": {},
   "outputs": [],
   "source": [
    "# Function that checks webpage contents to make sure url is valid\n",
    "def check_soup(year, state, district):\n",
    "    \n",
    "    URL = f'https://www.opensecrets.org/races/candidates?cycle={year}&id={state}{district}&spec=N'\n",
    "    response = requests.get(URL)\n",
    "    soup = BS(response.text)\n",
    "    \n",
    "    # URL is valid if webpage contains election year in title and at least one table \n",
    "    if (year in soup.find('title').text) and (len(soup.findAll('table')) > 0):\n",
    "        return True\n",
    "    \n",
    "    return False"
   ]
  },
  {
   "cell_type": "code",
   "execution_count": 3,
   "metadata": {},
   "outputs": [],
   "source": [
    "# Function that web scrapes election candidate info\n",
    "def get_election_info(year, state, district, data = pd.DataFrame()):\n",
    "\t\n",
    "\t# Retrive election webpage based on year, state, and district\n",
    "\tURL = f'https://www.opensecrets.org/races/candidates?cycle={year}&id={state}{district}&spec=N'\n",
    "\tresponse = requests.get(URL)\n",
    "\tsoup = BS(response.text)\n",
    "\t\n",
    "\t# Store webpage elements containing candidate info and finances\n",
    "\tcandidates = soup.findAll('strong')\n",
    "\ttables = (table for table in soup.findAll('table'))\n",
    "\n",
    "\t# Iterate over candidates\n",
    "\tfor candidate in candidates:\n",
    "\n",
    "\t\t# Parse name and party from candidate string\n",
    "\t\ttext = candidate.text.replace('\\n','').replace('\\t','')\n",
    "\t\tname = re.match('(.+?)(?=\\s\\((\\w)\\))', text).group(1)\n",
    "\t\tparty = re.match('(.+?)(?=\\s\\((\\w)\\))', text).group(2)\n",
    "\n",
    "\t\t# Parse incumbent and winner status from candidate string\n",
    "\t\tqualifiers = [qualifier.text for qualifier in candidate.findAll('i')]\n",
    "\t\tincumbent = 'Incumbent' in qualifiers\n",
    "\t\twinner = 'Winner' in qualifiers\n",
    "\n",
    "\t\t# Parse total raised and spent from table 1\n",
    "\t\ttable_1 = pd.read_html(str(next(tables)))[0]\n",
    "\t\ttotal_category = table_1[0].str.strip(':').to_list()\n",
    "\t\ttry: total_amount = table_1[1].str.replace('[$,]', '', regex = True).astype(int).to_list()\n",
    "\t\texcept: total_amount = table_1[1].to_list()\n",
    "\n",
    "\t\t# Parse contribution types from table 2\n",
    "\t\ttable_2 = pd.read_html(str(next(tables)))[0]\n",
    "\t\tcontribution_category = table_2['Type of Contribution'].str.replace('[^A-Za-z\\s\\-]', '', regex = True).str.strip().to_list()\n",
    "\t\ttry: contribution_amounts = table_2['Amount'].str.replace('[$,]', '', regex = True).astype(int).to_list()\n",
    "\t\texcept: contribution_amounts = table_2['Amount'].to_list()\n",
    "\t\t\n",
    "\t\t# Parse disclosure types from table 3\n",
    "\t\ttable_3 = pd.read_html(str(next(tables)))[0]\n",
    "\t\tdisclosure_category = table_3['Type of Disclosure'].to_list()\n",
    "\t\ttry: disclosure_amount = table_3['Amount'].str.replace('[$,]', '', regex = True).astype(int).to_list()\n",
    "\t\texcept: disclosure_amount = table_3['Amount'].to_list()\n",
    "\n",
    "\t\t# Concatenate keys together as list\n",
    "\t\tkeys = (['Name', 'Party', 'Year', 'State', 'District', 'Incumbent', 'Winner'] + \n",
    "\t\t\t\ttotal_category + contribution_category + disclosure_category)\n",
    "\t\t\n",
    "\t\t# Concatenate values together as list\n",
    "\t\tvalues = ([name, party, year, state, district, incumbent, winner] + \n",
    "\t\t\t\t  total_amount + contribution_amounts + disclosure_amount)\n",
    "\t\t\n",
    "\t\t# Append zipped key-value pairs to dataframe\n",
    "\t\tdata = data.append(dict(zip(keys, values)), ignore_index = True)\n",
    "\t\t\n",
    "\treturn data"
   ]
  },
  {
   "cell_type": "code",
   "execution_count": 4,
   "metadata": {},
   "outputs": [],
   "source": [
    "# List of years to iterate over\n",
    "years = ['2020', '2018', '2016', '2014', '2012', '2010', \n",
    "\t\t '2008', '2006', '2004', '2002', '2000']\n",
    "\n",
    "# List of states to iterate over\n",
    "states = ['AL', 'AK', 'AZ', 'AR', 'CA', 'CO', 'CT', 'DC', 'DE', 'FL', 'GA', \n",
    "\t\t  'HI', 'ID', 'IL', 'IN', 'IA', 'KS', 'KY', 'LA', 'ME', 'MD', \n",
    "\t\t  'MA', 'MI', 'MN', 'MS', 'MO', 'MT', 'NE', 'NV', 'NH', 'NJ', \n",
    "\t\t  'NM', 'NY', 'NC', 'ND', 'OH', 'OK', 'OR', 'PA', 'RI', 'SC', \n",
    "\t\t  'SD', 'TN', 'TX', 'UT', 'VT', 'VA', 'WA', 'WV', 'WI', 'WY']\n",
    "\n",
    "# List of districts to iterate over\n",
    "districts = ['{:02d}'.format(num) for num in list(range(1,54))]\n",
    "\n",
    "# Column names of dataframe\n",
    "column_names = ['Name', \n",
    "\t\t\t\t'Party',\n",
    "\t\t\t\t'Year',\n",
    "\t\t\t\t'State', \n",
    "\t\t\t\t'District',\n",
    "\t\t\t\t'Incumbent', \n",
    "\t\t\t\t'Winner', \n",
    "\t\t\t\t'Raised', \n",
    "\t\t\t\t'Spent', \n",
    "\t\t\t\t'Cash on Hand',\n",
    "\t\t\t\t'Individual Contributions',\n",
    "\t\t\t\t'Small Individual Contributions', \n",
    "\t\t\t\t'Large Individual Contributions', \n",
    "\t\t\t\t'PAC Contributions', \n",
    "\t\t\t\t'Candidate self-financing',\n",
    "\t\t\t\t'Other', \n",
    "\t\t\t\t'Full Disclosure', \n",
    "\t\t\t\t'Incomplete Disclosure', \n",
    "\t\t\t\t'No Disclosure']\n",
    "\n",
    "# Create empty dataframe with column names\n",
    "data = pd.DataFrame(columns = column_names)"
   ]
  },
  {
   "cell_type": "code",
   "execution_count": 5,
   "metadata": {},
   "outputs": [],
   "source": [
    "# Iterate over years\n",
    "for year in years:\n",
    "\n",
    "    # Iterate over states\n",
    "    for state in states:\n",
    "        \n",
    "        # Get election info for senate seat #1 if available\n",
    "        if check_soup(year, state, 'S1'):\n",
    "            data = get_election_info(year, state, 'S1', data)\n",
    "        \n",
    "        # Get election info for senate seat #2 if available\n",
    "        if check_soup(year, state, 'S2'):\n",
    "            data = get_election_info(year, state, 'S2', data)\n",
    "\n",
    "        # Iterate over districts    \n",
    "        for district in districts:   \n",
    "            \n",
    "            # Get election info for district if available, otherwise break\n",
    "            if not check_soup(year, state, district): break\n",
    "            data = get_election_info(year, state, district, data)"
   ]
  },
  {
   "cell_type": "code",
   "execution_count": 6,
   "metadata": {},
   "outputs": [],
   "source": [
    "# Write data to csv\n",
    "data.to_csv('../data/election_finances.csv', index = False)"
   ]
  }
 ],
 "metadata": {
  "interpreter": {
   "hash": "3d6140ef0c675026b0200147df87972487ebc0097827c4c765c9e0dcd9cf7b2f"
  },
  "kernelspec": {
   "display_name": "Python 3.8.8 64-bit ('base': conda)",
   "name": "python3"
  },
  "language_info": {
   "codemirror_mode": {
    "name": "ipython",
    "version": 3
   },
   "file_extension": ".py",
   "mimetype": "text/x-python",
   "name": "python",
   "nbconvert_exporter": "python",
   "pygments_lexer": "ipython3",
   "version": "3.8.8"
  }
 },
 "nbformat": 4,
 "nbformat_minor": 5
}
